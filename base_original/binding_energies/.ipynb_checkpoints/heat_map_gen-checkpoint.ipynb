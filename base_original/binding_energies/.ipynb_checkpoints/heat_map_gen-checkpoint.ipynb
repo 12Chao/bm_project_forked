{
 "cells": [
  {
   "cell_type": "code",
   "execution_count": 1,
   "id": "5adc9540",
   "metadata": {},
   "outputs": [],
   "source": [
    "import numpy as np\n",
    "import seaborn as sns\n",
    "import pandas as pd\n",
    "import matplotlib.pyplot as plt\n",
    "import os\n",
    "%matplotlib inline"
   ]
  },
  {
   "cell_type": "code",
   "execution_count": 2,
   "id": "55f6af87",
   "metadata": {},
   "outputs": [],
   "source": [
    "benergy_c = np.arange(-7.5, -5.25, 0.25)\n",
    "benergy_o = np.arange(-3.25, -5.5, -0.25)"
   ]
  },
  {
   "cell_type": "code",
   "execution_count": 3,
   "id": "72056df6",
   "metadata": {},
   "outputs": [],
   "source": [
    "data = np.zeros((len(benergy_c), len(benergy_o)))\n",
    "data_syngas = np.zeros((len(benergy_c), len(benergy_o)))"
   ]
  },
  {
   "cell_type": "code",
   "execution_count": 4,
   "id": "5c1e821d",
   "metadata": {},
   "outputs": [
    {
     "data": {
      "text/plain": [
       "array([[3.47476200e-01, 3.53013054e-01, 3.53130760e-01, 3.47536286e-01,\n",
       "        3.09750066e-01, 2.78923836e-01, 2.75536319e-01, 2.70746785e-01,\n",
       "        2.67161471e-01],\n",
       "       [8.09694501e-13, 3.49270054e-01, 3.51256172e-01, 3.46848310e-01,\n",
       "        3.21267719e-01, 2.62559517e-01, 2.00535478e-01, 1.75732513e-01,\n",
       "        1.70333437e-01],\n",
       "       [8.63290522e-13, 3.48856950e-01, 3.51355483e-01, 3.46294287e-01,\n",
       "        3.35593460e-01, 2.96540064e-01, 2.18850103e-01, 1.70081950e-01,\n",
       "        1.54360601e-01],\n",
       "       [8.19558799e-13, 3.52958353e-01, 3.54429231e-01, 3.48459701e-01,\n",
       "        3.34749015e-01, 2.87735637e-01, 1.12923644e-01, 5.42952792e-02,\n",
       "        4.90157970e-02],\n",
       "       [8.03118302e-13, 3.51396262e-01, 3.52560164e-01, 3.43564085e-01,\n",
       "        3.04791397e-01, 1.02838208e-01, 7.85384112e-03, 5.95532236e-03,\n",
       "        5.70444859e-03],\n",
       "       [8.18243559e-13, 1.06918625e-02, 3.28940905e-01, 2.72888244e-01,\n",
       "        3.77648344e-03, 9.24023180e-04, 7.21071342e-04, 6.86892724e-04,\n",
       "        6.79766640e-04],\n",
       "       [8.17257130e-13, 1.06877531e-02, 2.36593675e-01, 2.09452945e-03,\n",
       "        6.72362201e-05, 1.53076049e-05, 9.70848828e-06, 8.35890669e-06,\n",
       "        8.09237075e-06],\n",
       "       [8.19558799e-13, 1.06872599e-02, 8.90988132e-02, 4.38583525e-05,\n",
       "        4.06002879e-06, 9.68287245e-07, 2.51657788e-07, 1.10292337e-07,\n",
       "        9.85981778e-08],\n",
       "       [8.18407964e-13, 1.06795004e-02, 7.49498196e-03, 2.84444998e-06,\n",
       "        4.38116092e-07, 8.35166137e-08, 1.10493557e-08, 4.98634370e-09,\n",
       "        4.81633120e-09]])"
      ]
     },
     "execution_count": 4,
     "metadata": {},
     "output_type": "execute_result"
    }
   ],
   "source": [
    "total = 81\n",
    "i = -1\n",
    "paths = []\n",
    "for c_binding_energy in benergy_c:\n",
    "    i += 1\n",
    "    j = -1\n",
    "    index = total - ((7.5 - abs(c_binding_energy)) / 0.25 + 1) * 9\n",
    "    for o_binding_energy in benergy_o:\n",
    "        j += 1\n",
    "        index += 1\n",
    "\n",
    "        try:\n",
    "            f_path = '{}_c{:.2f}o{:.2f}/sim_data/rtol_1e-08_atol_1e-16_data.csv'.format(index, c_binding_energy, o_binding_energy)\n",
    "            df = pd.read_csv(f_path)\n",
    "#             ch4_conv = df.loc[df['C/O ratio'].round(2) == 0.6].loc[:,'Max CH4 Conv'].to_list()[0]\n",
    "            ch4_in = df.loc[df['C/O ratio'].round(2) == 0.6].loc[:,'CH4 in'].to_list()[0]\n",
    "            ch4_out = df.loc[df['C/O ratio'].round(2) == 0.6].loc[:,'CH4 out'].to_list()[0]\n",
    "            ch4_conv = (ch4_in - ch4_out) / ch4_in\n",
    "            if abs(ch4_conv) > 1:\n",
    "                data[j][i] = 0\n",
    "            else:\n",
    "                data[j][i] = abs(ch4_conv)\n",
    "        except Exception as e:\n",
    "            print(e, f\"check log files {index}\")\n",
    "data "
   ]
  },
  {
   "cell_type": "code",
   "execution_count": 5,
   "id": "5b53794c",
   "metadata": {},
   "outputs": [
    {
     "data": {
      "text/html": [
       "<div>\n",
       "<style scoped>\n",
       "    .dataframe tbody tr th:only-of-type {\n",
       "        vertical-align: middle;\n",
       "    }\n",
       "\n",
       "    .dataframe tbody tr th {\n",
       "        vertical-align: top;\n",
       "    }\n",
       "\n",
       "    .dataframe thead th {\n",
       "        text-align: right;\n",
       "    }\n",
       "</style>\n",
       "<table border=\"1\" class=\"dataframe\">\n",
       "  <thead>\n",
       "    <tr style=\"text-align: right;\">\n",
       "      <th></th>\n",
       "      <th>-7.50</th>\n",
       "      <th>-7.25</th>\n",
       "      <th>-7.00</th>\n",
       "      <th>-6.75</th>\n",
       "      <th>-6.50</th>\n",
       "      <th>-6.25</th>\n",
       "      <th>-6.00</th>\n",
       "      <th>-5.75</th>\n",
       "      <th>-5.50</th>\n",
       "    </tr>\n",
       "  </thead>\n",
       "  <tbody>\n",
       "    <tr>\n",
       "      <th>-3.25</th>\n",
       "      <td>3.474762e-01</td>\n",
       "      <td>0.353013</td>\n",
       "      <td>0.353131</td>\n",
       "      <td>0.347536</td>\n",
       "      <td>3.097501e-01</td>\n",
       "      <td>2.789238e-01</td>\n",
       "      <td>2.755363e-01</td>\n",
       "      <td>2.707468e-01</td>\n",
       "      <td>2.671615e-01</td>\n",
       "    </tr>\n",
       "    <tr>\n",
       "      <th>-3.50</th>\n",
       "      <td>8.096945e-13</td>\n",
       "      <td>0.349270</td>\n",
       "      <td>0.351256</td>\n",
       "      <td>0.346848</td>\n",
       "      <td>3.212677e-01</td>\n",
       "      <td>2.625595e-01</td>\n",
       "      <td>2.005355e-01</td>\n",
       "      <td>1.757325e-01</td>\n",
       "      <td>1.703334e-01</td>\n",
       "    </tr>\n",
       "    <tr>\n",
       "      <th>-3.75</th>\n",
       "      <td>8.632905e-13</td>\n",
       "      <td>0.348857</td>\n",
       "      <td>0.351355</td>\n",
       "      <td>0.346294</td>\n",
       "      <td>3.355935e-01</td>\n",
       "      <td>2.965401e-01</td>\n",
       "      <td>2.188501e-01</td>\n",
       "      <td>1.700819e-01</td>\n",
       "      <td>1.543606e-01</td>\n",
       "    </tr>\n",
       "    <tr>\n",
       "      <th>-4.00</th>\n",
       "      <td>8.195588e-13</td>\n",
       "      <td>0.352958</td>\n",
       "      <td>0.354429</td>\n",
       "      <td>0.348460</td>\n",
       "      <td>3.347490e-01</td>\n",
       "      <td>2.877356e-01</td>\n",
       "      <td>1.129236e-01</td>\n",
       "      <td>5.429528e-02</td>\n",
       "      <td>4.901580e-02</td>\n",
       "    </tr>\n",
       "    <tr>\n",
       "      <th>-4.25</th>\n",
       "      <td>8.031183e-13</td>\n",
       "      <td>0.351396</td>\n",
       "      <td>0.352560</td>\n",
       "      <td>0.343564</td>\n",
       "      <td>3.047914e-01</td>\n",
       "      <td>1.028382e-01</td>\n",
       "      <td>7.853841e-03</td>\n",
       "      <td>5.955322e-03</td>\n",
       "      <td>5.704449e-03</td>\n",
       "    </tr>\n",
       "    <tr>\n",
       "      <th>-4.50</th>\n",
       "      <td>8.182436e-13</td>\n",
       "      <td>0.010692</td>\n",
       "      <td>0.328941</td>\n",
       "      <td>0.272888</td>\n",
       "      <td>3.776483e-03</td>\n",
       "      <td>9.240232e-04</td>\n",
       "      <td>7.210713e-04</td>\n",
       "      <td>6.868927e-04</td>\n",
       "      <td>6.797666e-04</td>\n",
       "    </tr>\n",
       "    <tr>\n",
       "      <th>-4.75</th>\n",
       "      <td>8.172571e-13</td>\n",
       "      <td>0.010688</td>\n",
       "      <td>0.236594</td>\n",
       "      <td>0.002095</td>\n",
       "      <td>6.723622e-05</td>\n",
       "      <td>1.530760e-05</td>\n",
       "      <td>9.708488e-06</td>\n",
       "      <td>8.358907e-06</td>\n",
       "      <td>8.092371e-06</td>\n",
       "    </tr>\n",
       "    <tr>\n",
       "      <th>-5.00</th>\n",
       "      <td>8.195588e-13</td>\n",
       "      <td>0.010687</td>\n",
       "      <td>0.089099</td>\n",
       "      <td>0.000044</td>\n",
       "      <td>4.060029e-06</td>\n",
       "      <td>9.682872e-07</td>\n",
       "      <td>2.516578e-07</td>\n",
       "      <td>1.102923e-07</td>\n",
       "      <td>9.859818e-08</td>\n",
       "    </tr>\n",
       "    <tr>\n",
       "      <th>-5.25</th>\n",
       "      <td>8.184080e-13</td>\n",
       "      <td>0.010680</td>\n",
       "      <td>0.007495</td>\n",
       "      <td>0.000003</td>\n",
       "      <td>4.381161e-07</td>\n",
       "      <td>8.351661e-08</td>\n",
       "      <td>1.104936e-08</td>\n",
       "      <td>4.986344e-09</td>\n",
       "      <td>4.816331e-09</td>\n",
       "    </tr>\n",
       "  </tbody>\n",
       "</table>\n",
       "</div>"
      ],
      "text/plain": [
       "              -7.50     -7.25     -7.00     -6.75         -6.50         -6.25  \\\n",
       "-3.25  3.474762e-01  0.353013  0.353131  0.347536  3.097501e-01  2.789238e-01   \n",
       "-3.50  8.096945e-13  0.349270  0.351256  0.346848  3.212677e-01  2.625595e-01   \n",
       "-3.75  8.632905e-13  0.348857  0.351355  0.346294  3.355935e-01  2.965401e-01   \n",
       "-4.00  8.195588e-13  0.352958  0.354429  0.348460  3.347490e-01  2.877356e-01   \n",
       "-4.25  8.031183e-13  0.351396  0.352560  0.343564  3.047914e-01  1.028382e-01   \n",
       "-4.50  8.182436e-13  0.010692  0.328941  0.272888  3.776483e-03  9.240232e-04   \n",
       "-4.75  8.172571e-13  0.010688  0.236594  0.002095  6.723622e-05  1.530760e-05   \n",
       "-5.00  8.195588e-13  0.010687  0.089099  0.000044  4.060029e-06  9.682872e-07   \n",
       "-5.25  8.184080e-13  0.010680  0.007495  0.000003  4.381161e-07  8.351661e-08   \n",
       "\n",
       "              -6.00         -5.75         -5.50  \n",
       "-3.25  2.755363e-01  2.707468e-01  2.671615e-01  \n",
       "-3.50  2.005355e-01  1.757325e-01  1.703334e-01  \n",
       "-3.75  2.188501e-01  1.700819e-01  1.543606e-01  \n",
       "-4.00  1.129236e-01  5.429528e-02  4.901580e-02  \n",
       "-4.25  7.853841e-03  5.955322e-03  5.704449e-03  \n",
       "-4.50  7.210713e-04  6.868927e-04  6.797666e-04  \n",
       "-4.75  9.708488e-06  8.358907e-06  8.092371e-06  \n",
       "-5.00  2.516578e-07  1.102923e-07  9.859818e-08  \n",
       "-5.25  1.104936e-08  4.986344e-09  4.816331e-09  "
      ]
     },
     "execution_count": 5,
     "metadata": {},
     "output_type": "execute_result"
    }
   ],
   "source": [
    "ch4_conv_df = pd.DataFrame(data, columns=benergy_c, index=benergy_o)\n",
    "ch4_conv_df"
   ]
  },
  {
   "cell_type": "code",
   "execution_count": 6,
   "id": "9126d2b8",
   "metadata": {},
   "outputs": [
    {
     "data": {
      "text/plain": [
       "[Text(0.5, 1.0, 'CH4 Conversion at C/O=0.6 without BMA'),\n",
       " Text(0.5, 60.0, '$\\\\Delta E^C(ev)$'),\n",
       " Text(348.0000000000001, 0.5, '$\\\\Delta E^O(ev)$')]"
      ]
     },
     "execution_count": 6,
     "metadata": {},
     "output_type": "execute_result"
    },
    {
     "data": {
      "image/png": "[encoded data removed]",
      "text/plain": [
       "<Figure size 1152x648 with 2 Axes>"
      ]
     },
     "metadata": {},
     "output_type": "display_data"
    }
   ],
   "source": [
    "sns.set_style(\"darkgrid\")\n",
    "fig = plt.figure(figsize=(16,9))\n",
    "ax = fig.add_subplot(111, aspect='equal')\n",
    "# ax = fig.add_subplot(111, aspect='equal')\n",
    "cmap = sns.color_palette(\"viridis\", as_cmap=True)\n",
    "ax = sns.heatmap(ch4_conv_df, xticklabels=benergy_c, yticklabels=benergy_o, annot=False, cmap=cmap)\n",
    "ax.set(title=\"CH4 Conversion at C/O=0.6 without BMA\",\n",
    "      xlabel=\"$\\\\Delta E^C(ev)$\",\n",
    "      ylabel=\"$\\\\Delta E^O(ev)$\",)\n",
    "# ax.scatter(9, 9, marker='*', s=100, color='yellow')\n",
    "# ax.scatter(metal_x, metal_y, marker='*', color='black')\n",
    "# for i, txt in enumerate(metal_names):\n",
    "#     ax.annotate(txt,(metal_x[i], metal_y[i]))"
   ]
  },
  {
   "cell_type": "markdown",
   "id": "c6b09763",
   "metadata": {},
   "source": [
    "## Heat Map For Syngas Conversion at C/O=0.6"
   ]
  },
  {
   "cell_type": "code",
   "execution_count": 7,
   "id": "363b2295",
   "metadata": {},
   "outputs": [
    {
     "data": {
      "text/plain": [
       "array([[2.87890861e-02, 2.89028075e-02, 2.86316256e-02, 2.76352685e-02,\n",
       "        1.76470441e-02, 7.64037736e-03, 4.14933800e-04, 4.06918158e-07,\n",
       "        6.84780846e-08],\n",
       "       [3.02882633e-12, 2.87664496e-02, 2.85349403e-02, 2.75628549e-02,\n",
       "        2.25862923e-02, 1.04561663e-02, 5.20746861e-07, 3.20562745e-08,\n",
       "        5.52387050e-09],\n",
       "       [3.02858450e-12, 2.87380351e-02, 2.85098182e-02, 2.74928195e-02,\n",
       "        2.55854885e-02, 1.86317156e-02, 4.56717721e-03, 1.92977388e-07,\n",
       "        3.67393265e-08],\n",
       "       [3.02851919e-12, 2.88934290e-02, 2.86571102e-02, 2.76494619e-02,\n",
       "        2.55225878e-02, 1.92546638e-02, 9.77982711e-04, 7.35845071e-07,\n",
       "        3.95250345e-07],\n",
       "       [3.02848827e-12, 2.89107444e-02, 2.86517731e-02, 2.73467001e-02,\n",
       "        2.27017980e-02, 3.21616508e-03, 2.45803250e-06, 1.37938105e-06,\n",
       "        1.27748516e-06],\n",
       "       [3.02848296e-12, 1.35305264e-03, 2.77742894e-02, 2.18017032e-02,\n",
       "        2.31581226e-05, 2.79498194e-06, 2.10372307e-06, 1.99199087e-06,\n",
       "        1.97568060e-06],\n",
       "       [3.02847310e-12, 1.35316174e-03, 2.22160315e-02, 1.08984399e-04,\n",
       "        1.89207226e-06, 4.70696319e-07, 2.99410998e-07, 2.53332224e-07,\n",
       "        2.44093484e-07],\n",
       "       [3.02847388e-12, 1.35310230e-03, 9.54626561e-03, 3.02946711e-06,\n",
       "        1.90645741e-07, 4.09426097e-08, 9.44675370e-09, 3.06275655e-09,\n",
       "        2.46288048e-09],\n",
       "       [3.02847026e-12, 1.35211313e-03, 8.96820015e-04, 2.55834983e-07,\n",
       "        3.07054102e-08, 4.49627918e-09, 4.00511951e-10, 3.89141424e-11,\n",
       "        1.81375031e-11]])"
      ]
     },
     "execution_count": 7,
     "metadata": {},
     "output_type": "execute_result"
    }
   ],
   "source": [
    "total = 81\n",
    "i = -1\n",
    "paths = []\n",
    "for c_binding_energy in benergy_c:\n",
    "    i += 1\n",
    "    j = -1\n",
    "    index = total - ((7.5 - abs(c_binding_energy)) / 0.25 + 1) * 9\n",
    "    for o_binding_energy in benergy_o:\n",
    "        j += 1\n",
    "        index += 1\n",
    "\n",
    "        try:\n",
    "            f_path = '{}_c{:.2f}o{:.2f}/sim_data/rtol_1e-08_atol_1e-16_data.csv'.format(index, c_binding_energy, o_binding_energy)\n",
    "            df = pd.read_csv(f_path)\n",
    "            h2_out = df.loc[df['C/O ratio'].round(2) == 0.6].loc[:,'H2 out'].to_list()[0]\n",
    "            co_out = df.loc[df['C/O ratio'].round(2) == 0.6].loc[:,'CO out'].to_list()[0]\n",
    "            syngas_conv = co_out + h2_out\n",
    "#             if abs(syngas_conv) > 1:\n",
    "#                 data[j][i] = 0\n",
    "#             else:\n",
    "            data[j][i] = abs(syngas_conv)\n",
    "        except Exception as e:\n",
    "            print(e, f\"check log files {index}\")\n",
    "data "
   ]
  },
  {
   "cell_type": "code",
   "execution_count": 8,
   "id": "cbfdeace",
   "metadata": {},
   "outputs": [
    {
     "data": {
      "text/html": [
       "<div>\n",
       "<style scoped>\n",
       "    .dataframe tbody tr th:only-of-type {\n",
       "        vertical-align: middle;\n",
       "    }\n",
       "\n",
       "    .dataframe tbody tr th {\n",
       "        vertical-align: top;\n",
       "    }\n",
       "\n",
       "    .dataframe thead th {\n",
       "        text-align: right;\n",
       "    }\n",
       "</style>\n",
       "<table border=\"1\" class=\"dataframe\">\n",
       "  <thead>\n",
       "    <tr style=\"text-align: right;\">\n",
       "      <th></th>\n",
       "      <th>-7.50</th>\n",
       "      <th>-7.25</th>\n",
       "      <th>-7.00</th>\n",
       "      <th>-6.75</th>\n",
       "      <th>-6.50</th>\n",
       "      <th>-6.25</th>\n",
       "      <th>-6.00</th>\n",
       "      <th>-5.75</th>\n",
       "      <th>-5.50</th>\n",
       "    </tr>\n",
       "  </thead>\n",
       "  <tbody>\n",
       "    <tr>\n",
       "      <th>-3.25</th>\n",
       "      <td>2.878909e-02</td>\n",
       "      <td>0.028903</td>\n",
       "      <td>0.028632</td>\n",
       "      <td>2.763527e-02</td>\n",
       "      <td>1.764704e-02</td>\n",
       "      <td>7.640377e-03</td>\n",
       "      <td>4.149338e-04</td>\n",
       "      <td>4.069182e-07</td>\n",
       "      <td>6.847808e-08</td>\n",
       "    </tr>\n",
       "    <tr>\n",
       "      <th>-3.50</th>\n",
       "      <td>3.028826e-12</td>\n",
       "      <td>0.028766</td>\n",
       "      <td>0.028535</td>\n",
       "      <td>2.756285e-02</td>\n",
       "      <td>2.258629e-02</td>\n",
       "      <td>1.045617e-02</td>\n",
       "      <td>5.207469e-07</td>\n",
       "      <td>3.205627e-08</td>\n",
       "      <td>5.523870e-09</td>\n",
       "    </tr>\n",
       "    <tr>\n",
       "      <th>-3.75</th>\n",
       "      <td>3.028585e-12</td>\n",
       "      <td>0.028738</td>\n",
       "      <td>0.028510</td>\n",
       "      <td>2.749282e-02</td>\n",
       "      <td>2.558549e-02</td>\n",
       "      <td>1.863172e-02</td>\n",
       "      <td>4.567177e-03</td>\n",
       "      <td>1.929774e-07</td>\n",
       "      <td>3.673933e-08</td>\n",
       "    </tr>\n",
       "    <tr>\n",
       "      <th>-4.00</th>\n",
       "      <td>3.028519e-12</td>\n",
       "      <td>0.028893</td>\n",
       "      <td>0.028657</td>\n",
       "      <td>2.764946e-02</td>\n",
       "      <td>2.552259e-02</td>\n",
       "      <td>1.925466e-02</td>\n",
       "      <td>9.779827e-04</td>\n",
       "      <td>7.358451e-07</td>\n",
       "      <td>3.952503e-07</td>\n",
       "    </tr>\n",
       "    <tr>\n",
       "      <th>-4.25</th>\n",
       "      <td>3.028488e-12</td>\n",
       "      <td>0.028911</td>\n",
       "      <td>0.028652</td>\n",
       "      <td>2.734670e-02</td>\n",
       "      <td>2.270180e-02</td>\n",
       "      <td>3.216165e-03</td>\n",
       "      <td>2.458032e-06</td>\n",
       "      <td>1.379381e-06</td>\n",
       "      <td>1.277485e-06</td>\n",
       "    </tr>\n",
       "    <tr>\n",
       "      <th>-4.50</th>\n",
       "      <td>3.028483e-12</td>\n",
       "      <td>0.001353</td>\n",
       "      <td>0.027774</td>\n",
       "      <td>2.180170e-02</td>\n",
       "      <td>2.315812e-05</td>\n",
       "      <td>2.794982e-06</td>\n",
       "      <td>2.103723e-06</td>\n",
       "      <td>1.991991e-06</td>\n",
       "      <td>1.975681e-06</td>\n",
       "    </tr>\n",
       "    <tr>\n",
       "      <th>-4.75</th>\n",
       "      <td>3.028473e-12</td>\n",
       "      <td>0.001353</td>\n",
       "      <td>0.022216</td>\n",
       "      <td>1.089844e-04</td>\n",
       "      <td>1.892072e-06</td>\n",
       "      <td>4.706963e-07</td>\n",
       "      <td>2.994110e-07</td>\n",
       "      <td>2.533322e-07</td>\n",
       "      <td>2.440935e-07</td>\n",
       "    </tr>\n",
       "    <tr>\n",
       "      <th>-5.00</th>\n",
       "      <td>3.028474e-12</td>\n",
       "      <td>0.001353</td>\n",
       "      <td>0.009546</td>\n",
       "      <td>3.029467e-06</td>\n",
       "      <td>1.906457e-07</td>\n",
       "      <td>4.094261e-08</td>\n",
       "      <td>9.446754e-09</td>\n",
       "      <td>3.062757e-09</td>\n",
       "      <td>2.462880e-09</td>\n",
       "    </tr>\n",
       "    <tr>\n",
       "      <th>-5.25</th>\n",
       "      <td>3.028470e-12</td>\n",
       "      <td>0.001352</td>\n",
       "      <td>0.000897</td>\n",
       "      <td>2.558350e-07</td>\n",
       "      <td>3.070541e-08</td>\n",
       "      <td>4.496279e-09</td>\n",
       "      <td>4.005120e-10</td>\n",
       "      <td>3.891414e-11</td>\n",
       "      <td>1.813750e-11</td>\n",
       "    </tr>\n",
       "  </tbody>\n",
       "</table>\n",
       "</div>"
      ],
      "text/plain": [
       "              -7.50     -7.25     -7.00         -6.75         -6.50  \\\n",
       "-3.25  2.878909e-02  0.028903  0.028632  2.763527e-02  1.764704e-02   \n",
       "-3.50  3.028826e-12  0.028766  0.028535  2.756285e-02  2.258629e-02   \n",
       "-3.75  3.028585e-12  0.028738  0.028510  2.749282e-02  2.558549e-02   \n",
       "-4.00  3.028519e-12  0.028893  0.028657  2.764946e-02  2.552259e-02   \n",
       "-4.25  3.028488e-12  0.028911  0.028652  2.734670e-02  2.270180e-02   \n",
       "-4.50  3.028483e-12  0.001353  0.027774  2.180170e-02  2.315812e-05   \n",
       "-4.75  3.028473e-12  0.001353  0.022216  1.089844e-04  1.892072e-06   \n",
       "-5.00  3.028474e-12  0.001353  0.009546  3.029467e-06  1.906457e-07   \n",
       "-5.25  3.028470e-12  0.001352  0.000897  2.558350e-07  3.070541e-08   \n",
       "\n",
       "              -6.25         -6.00         -5.75         -5.50  \n",
       "-3.25  7.640377e-03  4.149338e-04  4.069182e-07  6.847808e-08  \n",
       "-3.50  1.045617e-02  5.207469e-07  3.205627e-08  5.523870e-09  \n",
       "-3.75  1.863172e-02  4.567177e-03  1.929774e-07  3.673933e-08  \n",
       "-4.00  1.925466e-02  9.779827e-04  7.358451e-07  3.952503e-07  \n",
       "-4.25  3.216165e-03  2.458032e-06  1.379381e-06  1.277485e-06  \n",
       "-4.50  2.794982e-06  2.103723e-06  1.991991e-06  1.975681e-06  \n",
       "-4.75  4.706963e-07  2.994110e-07  2.533322e-07  2.440935e-07  \n",
       "-5.00  4.094261e-08  9.446754e-09  3.062757e-09  2.462880e-09  \n",
       "-5.25  4.496279e-09  4.005120e-10  3.891414e-11  1.813750e-11  "
      ]
     },
     "execution_count": 8,
     "metadata": {},
     "output_type": "execute_result"
    }
   ],
   "source": [
    "syngas_conv_df = pd.DataFrame(data, columns=benergy_c, index=benergy_o)\n",
    "syngas_conv_df"
   ]
  },
  {
   "cell_type": "code",
   "execution_count": 9,
   "id": "e540ff53",
   "metadata": {},
   "outputs": [
    {
     "data": {
      "text/plain": [
       "[Text(0.5, 1.0, 'Syngas Conversion'),\n",
       " Text(0.5, 60.0, '$\\\\Delta E^C(ev)$'),\n",
       " Text(348.0000000000001, 0.5, '$\\\\Delta E^O(ev)$')]"
      ]
     },
     "execution_count": 9,
     "metadata": {},
     "output_type": "execute_result"
    },
    {
     "data": {
      "image/png": "[encoded data removed]",
      "text/plain": [
       "<Figure size 1152x648 with 2 Axes>"
      ]
     },
     "metadata": {},
     "output_type": "display_data"
    }
   ],
   "source": [
    "sns.set_style(\"darkgrid\")\n",
    "fig = plt.figure(figsize=(16,9))\n",
    "ax = fig.add_subplot(111, aspect='equal')\n",
    "# ax = fig.add_subplot(111, aspect='equal')\n",
    "cmap = sns.color_palette(\"viridis\", as_cmap=True)\n",
    "ax = sns.heatmap(syngas_conv_df, xticklabels=benergy_c, yticklabels=benergy_o, annot=False, cmap=cmap)\n",
    "ax.set(title=\"Syngas Conversion\",\n",
    "      xlabel=\"$\\\\Delta E^C(ev)$\",\n",
    "      ylabel=\"$\\\\Delta E^O(ev)$\",)\n",
    "# ax.scatter(9, 9, marker='*', s=100, color='yellow')\n",
    "# ax.scatter(metal_x, metal_y, marker='*', color='black')\n",
    "# for i, txt in enumerate(metal_names):\n",
    "#     ax.annotate(txt,(metal_x[i], metal_y[i]))"
   ]
  },
  {
   "cell_type": "markdown",
   "id": "cf0a9c5b",
   "metadata": {},
   "source": [
    "# Plots at C/O = 1.0"
   ]
  },
  {
   "cell_type": "code",
   "execution_count": 5,
   "id": "0e1801cc",
   "metadata": {},
   "outputs": [
    {
     "data": {
      "text/plain": [
       "array([[1.19330593e-12, 4.44258067e-03, 1.88199618e-01, 2.92832650e-01,\n",
       "        2.81389817e-01, 2.59995104e-01, 2.46759121e-01, 2.52221268e-01,\n",
       "        2.81636157e-01],\n",
       "       [1.19229902e-12, 4.50518204e-03, 1.85676971e-01, 2.86284416e-01,\n",
       "        2.70234316e-01, 2.48642895e-01, 2.30974680e-01, 2.33722220e-01,\n",
       "        2.60496673e-01],\n",
       "       [1.19330593e-12, 5.22359336e-03, 1.87427911e-01, 2.69205679e-01,\n",
       "        2.58338239e-01, 2.37811454e-01, 2.17738616e-01, 2.06109969e-01,\n",
       "        2.09672464e-01],\n",
       "       [1.19084459e-12, 5.66751590e-03, 2.15857127e-01, 2.95297089e-01,\n",
       "        2.69655532e-01, 2.35687058e-01, 1.60241070e-01, 1.17844503e-01,\n",
       "        1.11007633e-01],\n",
       "       [1.19330593e-12, 5.85577182e-03, 9.94135076e-02, 3.24139289e-01,\n",
       "        2.82603436e-01, 1.73363251e-01, 4.64603698e-02, 2.57904223e-02,\n",
       "        2.33320993e-02],\n",
       "       [1.19308217e-12, 5.88893882e-03, 3.71391376e-02, 3.08391386e-01,\n",
       "        1.33962588e-02, 1.04549502e-03, 7.56535302e-04, 7.13254044e-04,\n",
       "        7.04827400e-04],\n",
       "       [1.19330593e-12, 5.89000071e-03, 3.08775904e-02, 1.25453555e-02,\n",
       "        1.09764258e-04, 1.69251388e-05, 9.56088142e-06, 7.98149374e-06,\n",
       "        7.67549951e-06],\n",
       "       [1.19252278e-12, 5.88994538e-03, 2.96316338e-02, 8.71137920e-05,\n",
       "        5.28708165e-06, 1.11452757e-06, 2.82032744e-07, 1.18738405e-07,\n",
       "        1.05504584e-07],\n",
       "       [1.19252278e-12, 5.88841421e-03, 2.76912439e-02, 5.05580708e-06,\n",
       "        5.32598916e-07, 9.71439005e-08, 1.30416084e-08, 5.95499412e-09,\n",
       "        5.74086764e-09]])"
      ]
     },
     "execution_count": 5,
     "metadata": {},
     "output_type": "execute_result"
    }
   ],
   "source": [
    "total = 81\n",
    "i = -1\n",
    "paths = []\n",
    "for c_binding_energy in benergy_c:\n",
    "    i += 1\n",
    "    j = -1\n",
    "    index = total - ((7.5 - abs(c_binding_energy)) / 0.25 + 1) * 9\n",
    "    for o_binding_energy in benergy_o:\n",
    "        j += 1\n",
    "        index += 1\n",
    "\n",
    "        try:\n",
    "            f_path = '{}_c{:.2f}o{:.2f}/sim_data/rtol_1e-08_atol_1e-16_data.csv'.format(index, c_binding_energy, o_binding_energy)\n",
    "            df = pd.read_csv(f_path)\n",
    "#             ch4_conv = df.loc[df['C/O ratio'].round(2) == 1.0].loc[:,'Max CH4 Conv'].to_list()[0]\n",
    "            ch4_out = df.loc[df['C/O ratio'].round(2) == 1.0].loc[:,'CH4 out'].to_list()[0]\n",
    "            ch4_in = df.loc[df['C/O ratio'].round(2) == 1.0].loc[:,'CH4 in'].to_list()[0]\n",
    "            ch4_conv = (ch4_in - ch4_out) / ch4_in\n",
    "            if abs(ch4_conv) > 1:\n",
    "                data[j][i] = 0\n",
    "            else:\n",
    "                data[j][i] = abs(ch4_conv)\n",
    "        except Exception as e:\n",
    "            print(e, f\"check log files {index}\")\n",
    "data "
   ]
  },
  {
   "cell_type": "code",
   "execution_count": 6,
   "id": "4cf0eada",
   "metadata": {},
   "outputs": [
    {
     "data": {
      "text/html": [
       "<div>\n",
       "<style scoped>\n",
       "    .dataframe tbody tr th:only-of-type {\n",
       "        vertical-align: middle;\n",
       "    }\n",
       "\n",
       "    .dataframe tbody tr th {\n",
       "        vertical-align: top;\n",
       "    }\n",
       "\n",
       "    .dataframe thead th {\n",
       "        text-align: right;\n",
       "    }\n",
       "</style>\n",
       "<table border=\"1\" class=\"dataframe\">\n",
       "  <thead>\n",
       "    <tr style=\"text-align: right;\">\n",
       "      <th></th>\n",
       "      <th>-7.50</th>\n",
       "      <th>-7.25</th>\n",
       "      <th>-7.00</th>\n",
       "      <th>-6.75</th>\n",
       "      <th>-6.50</th>\n",
       "      <th>-6.25</th>\n",
       "      <th>-6.00</th>\n",
       "      <th>-5.75</th>\n",
       "      <th>-5.50</th>\n",
       "    </tr>\n",
       "  </thead>\n",
       "  <tbody>\n",
       "    <tr>\n",
       "      <th>-3.25</th>\n",
       "      <td>1.193306e-12</td>\n",
       "      <td>0.004443</td>\n",
       "      <td>0.188200</td>\n",
       "      <td>0.292833</td>\n",
       "      <td>2.813898e-01</td>\n",
       "      <td>2.599951e-01</td>\n",
       "      <td>2.467591e-01</td>\n",
       "      <td>2.522213e-01</td>\n",
       "      <td>2.816362e-01</td>\n",
       "    </tr>\n",
       "    <tr>\n",
       "      <th>-3.50</th>\n",
       "      <td>1.192299e-12</td>\n",
       "      <td>0.004505</td>\n",
       "      <td>0.185677</td>\n",
       "      <td>0.286284</td>\n",
       "      <td>2.702343e-01</td>\n",
       "      <td>2.486429e-01</td>\n",
       "      <td>2.309747e-01</td>\n",
       "      <td>2.337222e-01</td>\n",
       "      <td>2.604967e-01</td>\n",
       "    </tr>\n",
       "    <tr>\n",
       "      <th>-3.75</th>\n",
       "      <td>1.193306e-12</td>\n",
       "      <td>0.005224</td>\n",
       "      <td>0.187428</td>\n",
       "      <td>0.269206</td>\n",
       "      <td>2.583382e-01</td>\n",
       "      <td>2.378115e-01</td>\n",
       "      <td>2.177386e-01</td>\n",
       "      <td>2.061100e-01</td>\n",
       "      <td>2.096725e-01</td>\n",
       "    </tr>\n",
       "    <tr>\n",
       "      <th>-4.00</th>\n",
       "      <td>1.190845e-12</td>\n",
       "      <td>0.005668</td>\n",
       "      <td>0.215857</td>\n",
       "      <td>0.295297</td>\n",
       "      <td>2.696555e-01</td>\n",
       "      <td>2.356871e-01</td>\n",
       "      <td>1.602411e-01</td>\n",
       "      <td>1.178445e-01</td>\n",
       "      <td>1.110076e-01</td>\n",
       "    </tr>\n",
       "    <tr>\n",
       "      <th>-4.25</th>\n",
       "      <td>1.193306e-12</td>\n",
       "      <td>0.005856</td>\n",
       "      <td>0.099414</td>\n",
       "      <td>0.324139</td>\n",
       "      <td>2.826034e-01</td>\n",
       "      <td>1.733633e-01</td>\n",
       "      <td>4.646037e-02</td>\n",
       "      <td>2.579042e-02</td>\n",
       "      <td>2.333210e-02</td>\n",
       "    </tr>\n",
       "    <tr>\n",
       "      <th>-4.50</th>\n",
       "      <td>1.193082e-12</td>\n",
       "      <td>0.005889</td>\n",
       "      <td>0.037139</td>\n",
       "      <td>0.308391</td>\n",
       "      <td>1.339626e-02</td>\n",
       "      <td>1.045495e-03</td>\n",
       "      <td>7.565353e-04</td>\n",
       "      <td>7.132540e-04</td>\n",
       "      <td>7.048274e-04</td>\n",
       "    </tr>\n",
       "    <tr>\n",
       "      <th>-4.75</th>\n",
       "      <td>1.193306e-12</td>\n",
       "      <td>0.005890</td>\n",
       "      <td>0.030878</td>\n",
       "      <td>0.012545</td>\n",
       "      <td>1.097643e-04</td>\n",
       "      <td>1.692514e-05</td>\n",
       "      <td>9.560881e-06</td>\n",
       "      <td>7.981494e-06</td>\n",
       "      <td>7.675500e-06</td>\n",
       "    </tr>\n",
       "    <tr>\n",
       "      <th>-5.00</th>\n",
       "      <td>1.192523e-12</td>\n",
       "      <td>0.005890</td>\n",
       "      <td>0.029632</td>\n",
       "      <td>0.000087</td>\n",
       "      <td>5.287082e-06</td>\n",
       "      <td>1.114528e-06</td>\n",
       "      <td>2.820327e-07</td>\n",
       "      <td>1.187384e-07</td>\n",
       "      <td>1.055046e-07</td>\n",
       "    </tr>\n",
       "    <tr>\n",
       "      <th>-5.25</th>\n",
       "      <td>1.192523e-12</td>\n",
       "      <td>0.005888</td>\n",
       "      <td>0.027691</td>\n",
       "      <td>0.000005</td>\n",
       "      <td>5.325989e-07</td>\n",
       "      <td>9.714390e-08</td>\n",
       "      <td>1.304161e-08</td>\n",
       "      <td>5.954994e-09</td>\n",
       "      <td>5.740868e-09</td>\n",
       "    </tr>\n",
       "  </tbody>\n",
       "</table>\n",
       "</div>"
      ],
      "text/plain": [
       "              -7.50     -7.25     -7.00     -6.75         -6.50         -6.25  \\\n",
       "-3.25  1.193306e-12  0.004443  0.188200  0.292833  2.813898e-01  2.599951e-01   \n",
       "-3.50  1.192299e-12  0.004505  0.185677  0.286284  2.702343e-01  2.486429e-01   \n",
       "-3.75  1.193306e-12  0.005224  0.187428  0.269206  2.583382e-01  2.378115e-01   \n",
       "-4.00  1.190845e-12  0.005668  0.215857  0.295297  2.696555e-01  2.356871e-01   \n",
       "-4.25  1.193306e-12  0.005856  0.099414  0.324139  2.826034e-01  1.733633e-01   \n",
       "-4.50  1.193082e-12  0.005889  0.037139  0.308391  1.339626e-02  1.045495e-03   \n",
       "-4.75  1.193306e-12  0.005890  0.030878  0.012545  1.097643e-04  1.692514e-05   \n",
       "-5.00  1.192523e-12  0.005890  0.029632  0.000087  5.287082e-06  1.114528e-06   \n",
       "-5.25  1.192523e-12  0.005888  0.027691  0.000005  5.325989e-07  9.714390e-08   \n",
       "\n",
       "              -6.00         -5.75         -5.50  \n",
       "-3.25  2.467591e-01  2.522213e-01  2.816362e-01  \n",
       "-3.50  2.309747e-01  2.337222e-01  2.604967e-01  \n",
       "-3.75  2.177386e-01  2.061100e-01  2.096725e-01  \n",
       "-4.00  1.602411e-01  1.178445e-01  1.110076e-01  \n",
       "-4.25  4.646037e-02  2.579042e-02  2.333210e-02  \n",
       "-4.50  7.565353e-04  7.132540e-04  7.048274e-04  \n",
       "-4.75  9.560881e-06  7.981494e-06  7.675500e-06  \n",
       "-5.00  2.820327e-07  1.187384e-07  1.055046e-07  \n",
       "-5.25  1.304161e-08  5.954994e-09  5.740868e-09  "
      ]
     },
     "execution_count": 6,
     "metadata": {},
     "output_type": "execute_result"
    }
   ],
   "source": [
    "ch4_conv_df = pd.DataFrame(data, columns=benergy_c, index=benergy_o)\n",
    "ch4_conv_df"
   ]
  },
  {
   "cell_type": "code",
   "execution_count": 7,
   "id": "7df1721b",
   "metadata": {},
   "outputs": [
    {
     "data": {
      "text/plain": [
       "[Text(0.5, 1.0, 'CH4 Conversion at C/O=1 without BMA'),\n",
       " Text(0.5, 60.0, '$\\\\Delta E^C(ev)$'),\n",
       " Text(348.0000000000001, 0.5, '$\\\\Delta E^O(ev)$')]"
      ]
     },
     "execution_count": 7,
     "metadata": {},
     "output_type": "execute_result"
    },
    {
     "data": {
      "image/png": "[encoded data removed]",
      "text/plain": [
       "<Figure size 1152x648 with 2 Axes>"
      ]
     },
     "metadata": {},
     "output_type": "display_data"
    }
   ],
   "source": [
    "ch4_conv_df = pd.DataFrame(data, columns=benergy_c, index=benergy_o)\n",
    "sns.set_style(\"darkgrid\")\n",
    "fig = plt.figure(figsize=(16,9))\n",
    "ax = fig.add_subplot(111, aspect='equal')\n",
    "# ax = fig.add_subplot(111, aspect='equal')\n",
    "cmap = sns.color_palette(\"viridis\", as_cmap=True)\n",
    "ax = sns.heatmap(ch4_conv_df, xticklabels=benergy_c, yticklabels=benergy_o, annot=False, cmap=cmap)\n",
    "ax.set(title=\"CH4 Conversion at C/O=1 without BMA\",\n",
    "      xlabel=\"$\\\\Delta E^C(ev)$\",\n",
    "      ylabel=\"$\\\\Delta E^O(ev)$\")\n",
    "# ax.scatter(9, 9, marker='*', s=100, color='yellow')\n",
    "# ax.scatter(metal_x, metal_y, marker='*', color='black')\n",
    "# for i, txt in enumerate(metal_names):\n",
    "#     ax.annotate(txt,(metal_x[i], metal_y[i]))"
   ]
  },
  {
   "cell_type": "markdown",
   "id": "6a709a5b",
   "metadata": {},
   "source": [
    "## syngas at C/O=1.0"
   ]
  },
  {
   "cell_type": "code",
   "execution_count": 8,
   "id": "74454911",
   "metadata": {},
   "outputs": [
    {
     "data": {
      "text/plain": [
       "array([[3.16223863e-11, 7.30154026e-03, 2.77129614e-01, 4.31539849e-01,\n",
       "        3.67286448e-01, 2.59321453e-01, 1.47568386e-01, 6.24994203e-02,\n",
       "        1.53275358e-02],\n",
       "       [3.16205156e-11, 7.45458526e-03, 2.73423521e-01, 4.22956035e-01,\n",
       "        3.78540110e-01, 2.85903404e-01, 1.69521754e-01, 6.33274265e-02,\n",
       "        1.06065592e-02],\n",
       "       [3.16187299e-11, 9.43337719e-03, 2.83160015e-01, 4.01368149e-01,\n",
       "        3.62705840e-01, 3.02228092e-01, 1.88301703e-01, 7.30412215e-02,\n",
       "        2.15329912e-02],\n",
       "       [3.16170727e-11, 1.09852026e-02, 3.43280381e-01, 4.56762643e-01,\n",
       "        3.89542248e-01, 3.05884575e-01, 1.28780300e-01, 2.86108694e-02,\n",
       "        1.26876800e-02],\n",
       "       [3.16161708e-11, 1.16530465e-02, 1.61294433e-01, 5.15848748e-01,\n",
       "        4.22558648e-01, 2.03491138e-01, 7.29344919e-03, 1.12181271e-03,\n",
       "        8.38525468e-04],\n",
       "       [3.16158899e-11, 1.17752308e-02, 6.84112652e-02, 4.87494228e-01,\n",
       "        3.83323078e-03, 5.78599989e-05, 3.95788732e-05, 3.70507819e-05,\n",
       "        3.66814423e-05],\n",
       "       [3.16157026e-11, 1.17791613e-02, 6.04115298e-02, 1.26822528e-02,\n",
       "        6.31192376e-05, 1.13649806e-05, 6.46078105e-06, 5.27311054e-06,\n",
       "        5.03073641e-06],\n",
       "       [3.16156690e-11, 1.17790616e-02, 5.85602029e-02, 1.18623759e-04,\n",
       "        5.62320847e-06, 1.07831522e-06, 2.39225369e-07, 6.72992996e-08,\n",
       "        5.08581258e-08],\n",
       "       [3.16157031e-11, 1.17759756e-02, 5.52065748e-02, 8.00615166e-06,\n",
       "        7.41892159e-07, 1.12637660e-07, 1.05129542e-08, 9.23956561e-10,\n",
       "        3.68476596e-10]])"
      ]
     },
     "execution_count": 8,
     "metadata": {},
     "output_type": "execute_result"
    }
   ],
   "source": [
    "total = 81\n",
    "i = -1\n",
    "paths = []\n",
    "for c_binding_energy in benergy_c:\n",
    "    i += 1\n",
    "    j = -1\n",
    "    index = total - ((7.5 - abs(c_binding_energy)) / 0.25 + 1) * 9\n",
    "    for o_binding_energy in benergy_o:\n",
    "        j += 1\n",
    "        index += 1\n",
    "\n",
    "        try:\n",
    "            f_path = '{}_c{:.2f}o{:.2f}/sim_data/rtol_1e-08_atol_1e-16_data.csv'.format(index, c_binding_energy, o_binding_energy)\n",
    "            df = pd.read_csv(f_path)\n",
    "            h2_out = df.loc[df['C/O ratio'].round(2) == 1.0].loc[:,'H2 out'].to_list()[0]\n",
    "            co_out = df.loc[df['C/O ratio'].round(2) == 1.0].loc[:,'CO out'].to_list()[0]\n",
    "            ch4_in = df.loc[df['C/O ratio'].round(2) == 1.0].loc[:,'CH4 in'].to_list()[0]\n",
    "            syngas_conv = (co_out + h2_out / 2) / ch4_in\n",
    "#             if abs(syngas_conv) > 1:\n",
    "#                 data[j][i] = 0\n",
    "#             else:\n",
    "            data[j][i] = abs(syngas_conv)\n",
    "        except Exception as e:\n",
    "            print(e, f\"check log files {index}\")\n",
    "data "
   ]
  },
  {
   "cell_type": "code",
   "execution_count": 9,
   "id": "d9a9fa2d",
   "metadata": {},
   "outputs": [
    {
     "data": {
      "text/html": [
       "<div>\n",
       "<style scoped>\n",
       "    .dataframe tbody tr th:only-of-type {\n",
       "        vertical-align: middle;\n",
       "    }\n",
       "\n",
       "    .dataframe tbody tr th {\n",
       "        vertical-align: top;\n",
       "    }\n",
       "\n",
       "    .dataframe thead th {\n",
       "        text-align: right;\n",
       "    }\n",
       "</style>\n",
       "<table border=\"1\" class=\"dataframe\">\n",
       "  <thead>\n",
       "    <tr style=\"text-align: right;\">\n",
       "      <th></th>\n",
       "      <th>-7.50</th>\n",
       "      <th>-7.25</th>\n",
       "      <th>-7.00</th>\n",
       "      <th>-6.75</th>\n",
       "      <th>-6.50</th>\n",
       "      <th>-6.25</th>\n",
       "      <th>-6.00</th>\n",
       "      <th>-5.75</th>\n",
       "      <th>-5.50</th>\n",
       "    </tr>\n",
       "  </thead>\n",
       "  <tbody>\n",
       "    <tr>\n",
       "      <th>-3.25</th>\n",
       "      <td>3.162239e-11</td>\n",
       "      <td>0.007302</td>\n",
       "      <td>0.277130</td>\n",
       "      <td>0.431540</td>\n",
       "      <td>3.672864e-01</td>\n",
       "      <td>2.593215e-01</td>\n",
       "      <td>1.475684e-01</td>\n",
       "      <td>6.249942e-02</td>\n",
       "      <td>1.532754e-02</td>\n",
       "    </tr>\n",
       "    <tr>\n",
       "      <th>-3.50</th>\n",
       "      <td>3.162052e-11</td>\n",
       "      <td>0.007455</td>\n",
       "      <td>0.273424</td>\n",
       "      <td>0.422956</td>\n",
       "      <td>3.785401e-01</td>\n",
       "      <td>2.859034e-01</td>\n",
       "      <td>1.695218e-01</td>\n",
       "      <td>6.332743e-02</td>\n",
       "      <td>1.060656e-02</td>\n",
       "    </tr>\n",
       "    <tr>\n",
       "      <th>-3.75</th>\n",
       "      <td>3.161873e-11</td>\n",
       "      <td>0.009433</td>\n",
       "      <td>0.283160</td>\n",
       "      <td>0.401368</td>\n",
       "      <td>3.627058e-01</td>\n",
       "      <td>3.022281e-01</td>\n",
       "      <td>1.883017e-01</td>\n",
       "      <td>7.304122e-02</td>\n",
       "      <td>2.153299e-02</td>\n",
       "    </tr>\n",
       "    <tr>\n",
       "      <th>-4.00</th>\n",
       "      <td>3.161707e-11</td>\n",
       "      <td>0.010985</td>\n",
       "      <td>0.343280</td>\n",
       "      <td>0.456763</td>\n",
       "      <td>3.895422e-01</td>\n",
       "      <td>3.058846e-01</td>\n",
       "      <td>1.287803e-01</td>\n",
       "      <td>2.861087e-02</td>\n",
       "      <td>1.268768e-02</td>\n",
       "    </tr>\n",
       "    <tr>\n",
       "      <th>-4.25</th>\n",
       "      <td>3.161617e-11</td>\n",
       "      <td>0.011653</td>\n",
       "      <td>0.161294</td>\n",
       "      <td>0.515849</td>\n",
       "      <td>4.225586e-01</td>\n",
       "      <td>2.034911e-01</td>\n",
       "      <td>7.293449e-03</td>\n",
       "      <td>1.121813e-03</td>\n",
       "      <td>8.385255e-04</td>\n",
       "    </tr>\n",
       "    <tr>\n",
       "      <th>-4.50</th>\n",
       "      <td>3.161589e-11</td>\n",
       "      <td>0.011775</td>\n",
       "      <td>0.068411</td>\n",
       "      <td>0.487494</td>\n",
       "      <td>3.833231e-03</td>\n",
       "      <td>5.786000e-05</td>\n",
       "      <td>3.957887e-05</td>\n",
       "      <td>3.705078e-05</td>\n",
       "      <td>3.668144e-05</td>\n",
       "    </tr>\n",
       "    <tr>\n",
       "      <th>-4.75</th>\n",
       "      <td>3.161570e-11</td>\n",
       "      <td>0.011779</td>\n",
       "      <td>0.060412</td>\n",
       "      <td>0.012682</td>\n",
       "      <td>6.311924e-05</td>\n",
       "      <td>1.136498e-05</td>\n",
       "      <td>6.460781e-06</td>\n",
       "      <td>5.273111e-06</td>\n",
       "      <td>5.030736e-06</td>\n",
       "    </tr>\n",
       "    <tr>\n",
       "      <th>-5.00</th>\n",
       "      <td>3.161567e-11</td>\n",
       "      <td>0.011779</td>\n",
       "      <td>0.058560</td>\n",
       "      <td>0.000119</td>\n",
       "      <td>5.623208e-06</td>\n",
       "      <td>1.078315e-06</td>\n",
       "      <td>2.392254e-07</td>\n",
       "      <td>6.729930e-08</td>\n",
       "      <td>5.085813e-08</td>\n",
       "    </tr>\n",
       "    <tr>\n",
       "      <th>-5.25</th>\n",
       "      <td>3.161570e-11</td>\n",
       "      <td>0.011776</td>\n",
       "      <td>0.055207</td>\n",
       "      <td>0.000008</td>\n",
       "      <td>7.418922e-07</td>\n",
       "      <td>1.126377e-07</td>\n",
       "      <td>1.051295e-08</td>\n",
       "      <td>9.239566e-10</td>\n",
       "      <td>3.684766e-10</td>\n",
       "    </tr>\n",
       "  </tbody>\n",
       "</table>\n",
       "</div>"
      ],
      "text/plain": [
       "              -7.50     -7.25     -7.00     -6.75         -6.50         -6.25  \\\n",
       "-3.25  3.162239e-11  0.007302  0.277130  0.431540  3.672864e-01  2.593215e-01   \n",
       "-3.50  3.162052e-11  0.007455  0.273424  0.422956  3.785401e-01  2.859034e-01   \n",
       "-3.75  3.161873e-11  0.009433  0.283160  0.401368  3.627058e-01  3.022281e-01   \n",
       "-4.00  3.161707e-11  0.010985  0.343280  0.456763  3.895422e-01  3.058846e-01   \n",
       "-4.25  3.161617e-11  0.011653  0.161294  0.515849  4.225586e-01  2.034911e-01   \n",
       "-4.50  3.161589e-11  0.011775  0.068411  0.487494  3.833231e-03  5.786000e-05   \n",
       "-4.75  3.161570e-11  0.011779  0.060412  0.012682  6.311924e-05  1.136498e-05   \n",
       "-5.00  3.161567e-11  0.011779  0.058560  0.000119  5.623208e-06  1.078315e-06   \n",
       "-5.25  3.161570e-11  0.011776  0.055207  0.000008  7.418922e-07  1.126377e-07   \n",
       "\n",
       "              -6.00         -5.75         -5.50  \n",
       "-3.25  1.475684e-01  6.249942e-02  1.532754e-02  \n",
       "-3.50  1.695218e-01  6.332743e-02  1.060656e-02  \n",
       "-3.75  1.883017e-01  7.304122e-02  2.153299e-02  \n",
       "-4.00  1.287803e-01  2.861087e-02  1.268768e-02  \n",
       "-4.25  7.293449e-03  1.121813e-03  8.385255e-04  \n",
       "-4.50  3.957887e-05  3.705078e-05  3.668144e-05  \n",
       "-4.75  6.460781e-06  5.273111e-06  5.030736e-06  \n",
       "-5.00  2.392254e-07  6.729930e-08  5.085813e-08  \n",
       "-5.25  1.051295e-08  9.239566e-10  3.684766e-10  "
      ]
     },
     "execution_count": 9,
     "metadata": {},
     "output_type": "execute_result"
    }
   ],
   "source": [
    "syngas_conv_df = pd.DataFrame(data, columns=benergy_c, index=benergy_o)\n",
    "syngas_conv_df"
   ]
  },
  {
   "cell_type": "code",
   "execution_count": 10,
   "id": "0a53d1ae",
   "metadata": {},
   "outputs": [
    {
     "data": {
      "text/plain": [
       "[Text(0.5, 1.0, 'Syngas Conversion'),\n",
       " Text(0.5, 60.0, '$\\\\Delta E^C(ev)$'),\n",
       " Text(348.0000000000001, 0.5, '$\\\\Delta E^O(ev)$')]"
      ]
     },
     "execution_count": 10,
     "metadata": {},
     "output_type": "execute_result"
    },
    {
     "data": {
      "image/png": "[encoded data removed]",
      "text/plain": [
       "<Figure size 1152x648 with 2 Axes>"
      ]
     },
     "metadata": {},
     "output_type": "display_data"
    }
   ],
   "source": [
    "sns.set_style(\"darkgrid\")\n",
    "fig = plt.figure(figsize=(16,9))\n",
    "ax = fig.add_subplot(111, aspect='equal')\n",
    "# ax = fig.add_subplot(111, aspect='equal')\n",
    "cmap = sns.color_palette(\"viridis\", as_cmap=True)\n",
    "ax = sns.heatmap(syngas_conv_df, xticklabels=benergy_c, yticklabels=benergy_o, annot=False, cmap=cmap)\n",
    "ax.set(title=\"Syngas Conversion\",\n",
    "      xlabel=\"$\\\\Delta E^C(ev)$\",\n",
    "      ylabel=\"$\\\\Delta E^O(ev)$\",)\n",
    "# ax.scatter(9, 9, marker='*', s=100, color='yellow')\n",
    "# ax.scatter(metal_x, metal_y, marker='*', color='black')\n",
    "# for i, txt in enumerate(metal_names):\n",
    "#     ax.annotate(txt,(metal_x[i], metal_y[i]))"
   ]
  },
  {
   "cell_type": "markdown",
   "id": "7d2411eb",
   "metadata": {},
   "source": [
    "# Plots at 2.6"
   ]
  },
  {
   "cell_type": "code",
   "execution_count": 4,
   "id": "ecca2c8d",
   "metadata": {
    "scrolled": true
   },
   "outputs": [
    {
     "data": {
      "text/plain": [
       "array([[1.89498241e-12, 1.97361670e-11, 1.50541914e-02, 9.67318185e-02,\n",
       "        1.08227696e-01, 9.76538378e-02, 9.84339461e-02, 1.23264718e-01,\n",
       "        1.68105400e-01],\n",
       "       [1.89523598e-12, 1.97348991e-11, 1.50603784e-02, 9.59490146e-02,\n",
       "        1.05211574e-01, 9.30400796e-02, 9.33361774e-02, 1.21327079e-01,\n",
       "        1.65879360e-01],\n",
       "       [1.89650387e-12, 1.97293204e-11, 1.52371095e-02, 8.77175098e-02,\n",
       "        9.37199989e-02, 8.65438807e-02, 8.99554633e-02, 1.16184976e-01,\n",
       "        1.47118147e-01],\n",
       "       [1.58878794e-12, 1.97187969e-11, 1.51716911e-02, 9.27756579e-02,\n",
       "        9.64642325e-02, 8.73865691e-02, 8.15715998e-02, 8.21534102e-02,\n",
       "        8.51402919e-02],\n",
       "       [1.89612350e-12, 1.97137254e-11, 1.34966134e-02, 1.14857650e-01,\n",
       "        1.15294163e-01, 8.95809052e-02, 5.51566457e-02, 4.15563793e-02,\n",
       "        3.99241352e-02],\n",
       "       [1.89561635e-12, 1.97118235e-11, 1.25669003e-02, 1.08748369e-01,\n",
       "        1.14331923e-01, 1.65093614e-03, 8.54091210e-04, 7.72622839e-04,\n",
       "        7.58887208e-04],\n",
       "       [1.89447525e-12, 1.97073859e-11, 1.25203950e-02, 7.90525433e-02,\n",
       "        4.58222073e-04, 2.76723180e-05, 1.10652246e-05, 8.52157812e-06,\n",
       "        8.04830351e-06],\n",
       "       [1.89561635e-12, 1.97129646e-11, 1.25184889e-02, 5.43786499e-02,\n",
       "        1.16312431e-05, 1.73045791e-06, 4.15238456e-07, 1.62217841e-07,\n",
       "        1.40832675e-07],\n",
       "       [1.89688424e-12, 1.97125843e-11, 1.25115524e-02, 2.60964645e-03,\n",
       "        1.01861180e-06, 1.54877807e-07, 2.08247647e-08, 8.75981355e-09,\n",
       "        8.30408575e-09]])"
      ]
     },
     "execution_count": 4,
     "metadata": {},
     "output_type": "execute_result"
    }
   ],
   "source": [
    "total = 81\n",
    "i = -1\n",
    "paths = []\n",
    "for c_binding_energy in benergy_c:\n",
    "    i += 1\n",
    "    j = -1\n",
    "    index = total - ((7.5 - abs(c_binding_energy)) / 0.25 + 1) * 9\n",
    "    for o_binding_energy in benergy_o:\n",
    "        j += 1\n",
    "        index += 1\n",
    "\n",
    "        try:\n",
    "            f_path = '{}_c{:.2f}o{:.2f}/sim_data/rtol_1e-08_atol_1e-16_data.csv'.format(index, c_binding_energy, o_binding_energy)\n",
    "            df = pd.read_csv(f_path)\n",
    "#             ch4_conv = df.loc[df['C/O ratio'].round(2) == 2.6].loc[:,'Max CH4 Conv'].to_list()[0]\n",
    "            ch4_in = df.loc[df['C/O ratio'].round(2) == 2.6].loc[:,'CH4 in'].to_list()[0]\n",
    "            ch4_out = df.loc[df['C/O ratio'].round(2) == 2.6].loc[:,'CH4 out'].to_list()[0]\n",
    "            ch4_conv = (ch4_in - ch4_out) / ch4_in\n",
    "            if abs(ch4_conv) > 1:\n",
    "                data[j][i] = 0\n",
    "            else:\n",
    "                data[j][i] = abs(ch4_conv)\n",
    "        except Exception as e:\n",
    "            print(e, f\"check log files {index}\")\n",
    "data "
   ]
  },
  {
   "cell_type": "code",
   "execution_count": 5,
   "id": "5423256d",
   "metadata": {},
   "outputs": [
    {
     "data": {
      "text/plain": [
       "[Text(0.5, 1.0, 'CH4 Conversion at C/O=2.6 wihtout BMA'),\n",
       " Text(0.5, 60.0, '$\\\\Delta E^C(ev)$'),\n",
       " Text(348.0000000000001, 0.5, '$\\\\Delta E^O(ev)$')]"
      ]
     },
     "execution_count": 5,
     "metadata": {},
     "output_type": "execute_result"
    },
    {
     "data": {
      "image/png": "[encoded data removed]",
      "text/plain": [
       "<Figure size 1152x648 with 2 Axes>"
      ]
     },
     "metadata": {},
     "output_type": "display_data"
    }
   ],
   "source": [
    "ch4_conv_df = pd.DataFrame(data, columns=benergy_c, index=benergy_o)\n",
    "ch4_conv_df\n",
    "sns.set_style(\"darkgrid\")\n",
    "fig = plt.figure(figsize=(16,9))\n",
    "ax = fig.add_subplot(111, aspect='equal')\n",
    "# ax = fig.add_subplot(111, aspect='equal')\n",
    "cmap = sns.color_palette(\"viridis\", as_cmap=True)\n",
    "ax = sns.heatmap(ch4_conv_df, xticklabels=benergy_c, yticklabels=benergy_o, annot=False, cmap=cmap)\n",
    "ax.set(title=\"CH4 Conversion at C/O=2.6 wihtout BMA\",\n",
    "      xlabel=\"$\\\\Delta E^C(ev)$\",\n",
    "      ylabel=\"$\\\\Delta E^O(ev)$\",)\n",
    "# ax.scatter(9, 9, marker='*', s=100, color='yellow')\n",
    "# ax.scatter(metal_x, metal_y, marker='*', color='black')\n",
    "# for i, txt in enumerate(metal_names):\n",
    "#     ax.annotate(txt,(metal_x[i], metal_y[i]))"
   ]
  },
  {
   "cell_type": "markdown",
   "id": "b79cb852",
   "metadata": {},
   "source": [
    "## Syngas at C/O=2.6"
   ]
  },
  {
   "cell_type": "code",
   "execution_count": 6,
   "id": "3072d9ae",
   "metadata": {},
   "outputs": [
    {
     "data": {
      "text/plain": [
       "array([[2.40035323e-11, 2.49915604e-10, 1.93931301e-02, 1.31026110e-01,\n",
       "        1.38134388e-01, 1.09072052e-01, 7.29727260e-02, 3.53357859e-02,\n",
       "        1.00114244e-02],\n",
       "       [2.40042802e-11, 2.49910873e-10, 1.94434842e-02, 1.29723204e-01,\n",
       "        1.32831821e-01, 1.01500333e-01, 6.75093523e-02, 3.50062838e-02,\n",
       "        1.07819141e-02],\n",
       "       [2.40058857e-11, 2.49849534e-10, 2.07072447e-02, 1.16619967e-01,\n",
       "        1.12470788e-01, 8.89754662e-02, 6.28261788e-02, 3.30007459e-02,\n",
       "        1.06094978e-02],\n",
       "       [2.48178251e-11, 2.49739367e-10, 2.41295426e-02, 1.29913785e-01,\n",
       "        1.20058594e-01, 9.17674364e-02, 5.74382830e-02, 2.32453943e-02,\n",
       "        8.85965343e-03],\n",
       "       [2.40000560e-11, 2.49639650e-10, 2.45535173e-02, 1.80725763e-01,\n",
       "        1.63093800e-01, 1.03624748e-01, 3.37650199e-02, 8.06874167e-03,\n",
       "        5.62314140e-03],\n",
       "       [2.39999155e-11, 2.49628832e-10, 2.49475594e-02, 1.86212756e-01,\n",
       "        1.75726261e-01, 1.61281266e-04, 5.31223409e-05, 4.51094418e-05,\n",
       "        4.39511157e-05],\n",
       "       [2.39999045e-11, 2.49628474e-10, 2.50259917e-02, 1.44099196e-01,\n",
       "        3.27137731e-04, 1.60294472e-05, 6.18193226e-06, 4.48160966e-06,\n",
       "        4.13238670e-06],\n",
       "       [2.39999082e-11, 2.49628489e-10, 2.50279324e-02, 1.00540742e-01,\n",
       "        1.50862882e-05, 1.73267444e-06, 3.28877269e-07, 6.79967333e-08,\n",
       "        4.19184548e-08],\n",
       "       [2.39999473e-11, 2.49628380e-10, 2.50148955e-02, 4.88571302e-03,\n",
       "        1.64706631e-06, 2.01774697e-07, 1.72998846e-08, 1.28463125e-09,\n",
       "        3.95602480e-10]])"
      ]
     },
     "execution_count": 6,
     "metadata": {},
     "output_type": "execute_result"
    }
   ],
   "source": [
    "total = 81\n",
    "i = -1\n",
    "paths = []\n",
    "for c_binding_energy in benergy_c:\n",
    "    i += 1\n",
    "    j = -1\n",
    "    index = total - ((7.5 - abs(c_binding_energy)) / 0.25 + 1) * 9\n",
    "    for o_binding_energy in benergy_o:\n",
    "        j += 1\n",
    "        index += 1\n",
    "\n",
    "        try:\n",
    "            f_path = '{}_c{:.2f}o{:.2f}/sim_data/rtol_1e-08_atol_1e-16_data.csv'.format(index, c_binding_energy, o_binding_energy)\n",
    "            df = pd.read_csv(f_path)\n",
    "            h2_out = df.loc[df['C/O ratio'].round(2) == 2.6].loc[:,'H2 out'].to_list()[0]\n",
    "            co_out = df.loc[df['C/O ratio'].round(2) == 2.6].loc[:,'CO out'].to_list()[0]\n",
    "            ch4_in = df.loc[df['C/O ratio'].round(2) == 2.6].loc[:,'CH4 in'].to_list()[0]\n",
    "            syngas_conv = (co_out + h2_out / 2) / ch4_in\n",
    "#             if abs(syngas_conv) > 1:\n",
    "#                 data[j][i] = 0\n",
    "#             else:\n",
    "            data[j][i] = abs(syngas_conv)\n",
    "        except Exception as e:\n",
    "            print(e, f\"check log files {index}\")\n",
    "data "
   ]
  },
  {
   "cell_type": "code",
   "execution_count": 7,
   "id": "fc6ba087",
   "metadata": {},
   "outputs": [
    {
     "data": {
      "text/plain": [
       "[Text(0.5, 1.0, 'Syngas Conversion'),\n",
       " Text(0.5, 60.0, '$\\\\Delta E^C(ev)$'),\n",
       " Text(348.0000000000001, 0.5, '$\\\\Delta E^O(ev)$')]"
      ]
     },
     "execution_count": 7,
     "metadata": {},
     "output_type": "execute_result"
    },
    {
     "data": {
      "image/png": "[encoded data removed]",
      "text/plain": [
       "<Figure size 1152x648 with 2 Axes>"
      ]
     },
     "metadata": {},
     "output_type": "display_data"
    }
   ],
   "source": [
    "syngas_conv_df = pd.DataFrame(data, columns=benergy_c, index=benergy_o)\n",
    "syngas_conv_df\n",
    "sns.set_style(\"darkgrid\")\n",
    "fig = plt.figure(figsize=(16,9))\n",
    "ax = fig.add_subplot(111, aspect='equal')\n",
    "# ax = fig.add_subplot(111, aspect='equal')\n",
    "cmap = sns.color_palette(\"viridis\", as_cmap=True)\n",
    "ax = sns.heatmap(syngas_conv_df, xticklabels=benergy_c, yticklabels=benergy_o, annot=False, cmap=cmap)\n",
    "ax.set(title=\"Syngas Conversion\",\n",
    "      xlabel=\"$\\\\Delta E^C(ev)$\",\n",
    "      ylabel=\"$\\\\Delta E^O(ev)$\",)\n",
    "# ax.scatter(9, 9, marker='*', s=100, color='yellow')\n",
    "# ax.scatter(metal_x, metal_y, marker='*', color='black')\n",
    "# for i, txt in enumerate(metal_names):\n",
    "#     ax.annotate(txt,(metal_x[i], metal_y[i]))"
   ]
  },
  {
   "cell_type": "markdown",
   "id": "c196e49c",
   "metadata": {},
   "source": [
    "# Plots at C/O=0.8"
   ]
  },
  {
   "cell_type": "code",
   "execution_count": 4,
   "id": "7dd747c3",
   "metadata": {},
   "outputs": [
    {
     "name": "stdout",
     "output_type": "stream",
     "text": [
      "[Errno 2] No such file or directory: '81.0_c-7.50o-5.25/sim_data/rtol_1e-10_atol_1e-20_data.csv' check log files 81.0\n"
     ]
    },
    {
     "data": {
      "text/plain": [
       "array([[4.16333634e-15, 4.16333634e-15, 9.10634002e-02, 4.59778750e-01,\n",
       "        5.24257505e-01, 4.49449602e-01, 3.58926447e-01, 4.53148115e-01,\n",
       "        9.59467123e-01],\n",
       "       [4.16333634e-15, 4.16333634e-15, 9.09648500e-02, 4.57701353e-01,\n",
       "        5.09865883e-01, 4.19844301e-01, 3.38987337e-01, 4.31333240e-01,\n",
       "        9.42023143e-01],\n",
       "       [4.16333634e-15, 4.16333634e-15, 9.68963012e-02, 4.32304647e-01,\n",
       "        4.44447069e-01, 3.79107349e-01, 3.23108003e-01, 4.09765779e-01,\n",
       "        7.56085436e-01],\n",
       "       [4.16333634e-15, 4.16333634e-15, 9.97296042e-02, 4.41334587e-01,\n",
       "        4.42291014e-01, 3.77891495e-01, 3.24208838e-01, 3.30914468e-01,\n",
       "        3.66778975e-01],\n",
       "       [4.16333634e-15, 4.16333634e-15, 7.33199375e-02, 5.18259379e-01,\n",
       "        5.27910661e-01, 4.14180434e-01, 3.39095946e-01, 3.04955594e-01,\n",
       "        3.00188687e-01],\n",
       "       [4.16333634e-15, 4.16333634e-15, 6.79553277e-02, 4.61915802e-01,\n",
       "        6.14649048e-01, 4.73418638e-01, 3.51246169e-01, 2.87249067e-01,\n",
       "        2.77918784e-01],\n",
       "       [4.16333634e-15, 4.16333634e-15, 6.75756241e-02, 3.33821920e-01,\n",
       "        6.02643897e-01, 4.57783190e-01, 3.12397030e-01, 2.21806773e-01,\n",
       "        1.87720156e-01],\n",
       "       [4.16333634e-15, 4.16333634e-15, 6.75616331e-02, 2.70854824e-01,\n",
       "        5.47375066e-01, 3.78559909e-01, 2.30749071e-01, 1.37684624e-01,\n",
       "        9.47509358e-02],\n",
       "       [0.00000000e+00, 4.16333634e-15, 6.75259586e-02, 1.44114827e-01,\n",
       "        6.17654382e-05, 7.51282048e-06, 5.11873777e-06, 4.87594966e-06,\n",
       "        4.86407124e-06]])"
      ]
     },
     "execution_count": 4,
     "metadata": {},
     "output_type": "execute_result"
    }
   ],
   "source": [
    "total = 81\n",
    "i = -1\n",
    "paths = []\n",
    "for c_binding_energy in benergy_c:\n",
    "    i += 1\n",
    "    j = -1\n",
    "    index = total - ((7.5 - abs(c_binding_energy)) / 0.25 + 1) * 9\n",
    "    for o_binding_energy in benergy_o:\n",
    "        j += 1\n",
    "        index += 1\n",
    "\n",
    "        try:\n",
    "            f_path = '{}_c{:.2f}o{:.2f}/sim_data/rtol_1e-10_atol_1e-20_data.csv'.format(index, c_binding_energy, o_binding_energy)\n",
    "            df = pd.read_csv(f_path)\n",
    "            ch4_conv = df.loc[df['C/O ratio'].round(2) == 2.6].loc[:,'Max CH4 Conv'].to_list()[0]\n",
    "            if abs(ch4_conv) > 1:\n",
    "                data[j][i] = 0\n",
    "            else:\n",
    "                data[j][i] = abs(ch4_conv)\n",
    "        except Exception as e:\n",
    "            print(e, f\"check log files {index}\")\n",
    "data "
   ]
  },
  {
   "cell_type": "code",
   "execution_count": 5,
   "id": "98c47ff9",
   "metadata": {},
   "outputs": [
    {
     "data": {
      "text/plain": [
       "[Text(0.5, 1.0, 'CH4 Conversion at C/O=0.8'),\n",
       " Text(0.5, 60.0, '$\\\\Delta E^C(ev)$'),\n",
       " Text(348.0000000000001, 0.5, '$\\\\Delta E^O(ev)$')]"
      ]
     },
     "execution_count": 5,
     "metadata": {},
     "output_type": "execute_result"
    },
    {
     "data": {
      "image/png": "[encoded data removed]",
      "text/plain": [
       "<Figure size 1152x648 with 2 Axes>"
      ]
     },
     "metadata": {},
     "output_type": "display_data"
    }
   ],
   "source": [
    "ch4_conv_df = pd.DataFrame(data, columns=benergy_c, index=benergy_o)\n",
    "ch4_conv_df\n",
    "sns.set_style(\"darkgrid\")\n",
    "fig = plt.figure(figsize=(16,9))\n",
    "ax = fig.add_subplot(111, aspect='equal')\n",
    "# ax = fig.add_subplot(111, aspect='equal')\n",
    "cmap = sns.color_palette(\"Blues\", as_cmap=True)\n",
    "ax = sns.heatmap(ch4_conv_df, xticklabels=benergy_c, yticklabels=benergy_o, annot=False, cmap=cmap)\n",
    "ax.set(title=\"CH4 Conversion at C/O=0.8\",\n",
    "      xlabel=\"$\\\\Delta E^C(ev)$\",\n",
    "      ylabel=\"$\\\\Delta E^O(ev)$\",)\n",
    "# ax.scatter(9, 9, marker='*', s=100, color='yellow')\n",
    "# ax.scatter(metal_x, metal_y, marker='*', color='black')\n",
    "# for i, txt in enumerate(metal_names):\n",
    "#     ax.annotate(txt,(metal_x[i], metal_y[i]))"
   ]
  },
  {
   "cell_type": "markdown",
   "id": "450ce395",
   "metadata": {},
   "source": [
    "# Syngas"
   ]
  },
  {
   "cell_type": "code",
   "execution_count": 6,
   "id": "1aca5fbc",
   "metadata": {},
   "outputs": [
    {
     "name": "stdout",
     "output_type": "stream",
     "text": [
      "[Errno 2] No such file or directory: '81.0_c-7.50o-5.25/sim_data/rtol_1e-10_atol_1e-20_data.csv' check log files 81.0\n"
     ]
    },
    {
     "data": {
      "text/plain": [
       "array([[2.52897812e-15, 2.74993451e+00, 2.74993131e+00, 2.74992991e+00,\n",
       "        2.74991012e+00, 2.74791183e+00, 2.70833832e+00, 2.62651996e+00,\n",
       "        2.53546983e+00],\n",
       "       [2.52897811e-15, 2.74993107e+00, 2.74992934e+00, 2.74992658e+00,\n",
       "        2.74987757e+00, 2.74516766e+00, 2.70138623e+00, 2.62753194e+00,\n",
       "        2.54561684e+00],\n",
       "       [2.52897812e-15, 2.74992922e+00, 2.74992840e+00, 2.74992360e+00,\n",
       "        2.74984029e+00, 2.74472105e+00, 2.70311930e+00, 2.63143572e+00,\n",
       "        2.54937993e+00],\n",
       "       [2.52897812e-15, 2.74993526e+00, 2.74992848e+00, 2.74992713e+00,\n",
       "        2.74989227e+00, 2.74785329e+00, 2.71207606e+00, 2.63917069e+00,\n",
       "        2.55546313e+00],\n",
       "       [2.52897812e-15, 6.20076767e-01, 2.74992851e+00, 2.74992840e+00,\n",
       "        2.74992423e+00, 2.74981577e+00, 2.73844314e+00, 2.67048131e+00,\n",
       "        2.57844922e+00],\n",
       "       [2.52897812e-15, 3.77924109e-01, 2.74992847e+00, 2.74992848e+00,\n",
       "        2.74992822e+00, 2.74991839e+00, 2.74971039e+00, 2.73024729e+00,\n",
       "        2.64505637e+00],\n",
       "       [2.52897812e-15, 3.70986254e-01, 2.74992842e+00, 2.74992843e+00,\n",
       "        2.74992843e+00, 2.74992776e+00, 2.74990838e+00, 2.74831676e+00,\n",
       "        2.72618450e+00],\n",
       "       [2.52897811e-15, 3.82367501e-01, 2.74992840e+00, 2.74992840e+00,\n",
       "        2.74993118e+00, 1.09913909e+00, 5.42018373e-02, 4.75677684e-02,\n",
       "        4.66369281e-02],\n",
       "       [0.00000000e+00, 3.99823434e-01, 2.74992840e+00, 2.74858002e+00,\n",
       "        1.23463192e-03, 6.47830776e-04, 5.44969595e-04, 5.33565744e-04,\n",
       "        5.32740799e-04]])"
      ]
     },
     "execution_count": 6,
     "metadata": {},
     "output_type": "execute_result"
    }
   ],
   "source": [
    "total = 81\n",
    "i = -1\n",
    "paths = []\n",
    "for c_binding_energy in benergy_c:\n",
    "    i += 1\n",
    "    j = -1\n",
    "    index = total - ((7.5 - abs(c_binding_energy)) / 0.25 + 1) * 9\n",
    "    for o_binding_energy in benergy_o:\n",
    "        j += 1\n",
    "        index += 1\n",
    "\n",
    "        try:\n",
    "            f_path = '{}_c{:.2f}o{:.2f}/sim_data/rtol_1e-10_atol_1e-20_data.csv'.format(index, c_binding_energy, o_binding_energy)\n",
    "            df = pd.read_csv(f_path)\n",
    "            h2_out = df.loc[df['C/O ratio'].round(2) == 0.8].loc[:,'H2 out'].to_list()[0]\n",
    "            co_out = df.loc[df['C/O ratio'].round(2) == 0.8].loc[:,'CO out'].to_list()[0]\n",
    "            ch4_in = df.loc[df['C/O ratio'].round(2) == 0.8].loc[:,'CH4 in'].to_list()[0]\n",
    "            syngas_conv = (co_out + h2_out) / ch4_in\n",
    "#             if abs(syngas_conv) > 1:\n",
    "#                 data[j][i] = 0\n",
    "#             else:\n",
    "            data[j][i] = abs(syngas_conv)\n",
    "        except Exception as e:\n",
    "            print(e, f\"check log files {index}\")\n",
    "data "
   ]
  },
  {
   "cell_type": "code",
   "execution_count": 9,
   "id": "b814894e",
   "metadata": {},
   "outputs": [
    {
     "data": {
      "text/plain": [
       "[Text(0.5, 1.0, 'Syngas Conversion'),\n",
       " Text(0.5, 60.0, '$\\\\Delta E^C(ev)$'),\n",
       " Text(348.0000000000001, 0.5, '$\\\\Delta E^O(ev)$')]"
      ]
     },
     "execution_count": 9,
     "metadata": {},
     "output_type": "execute_result"
    },
    {
     "data": {
      "image/png": "[encoded data removed]",
      "text/plain": [
       "<Figure size 1152x648 with 2 Axes>"
      ]
     },
     "metadata": {},
     "output_type": "display_data"
    }
   ],
   "source": [
    "syngas_conv_df = pd.DataFrame(data, columns=benergy_c, index=benergy_o)\n",
    "syngas_conv_df\n",
    "sns.set_style(\"darkgrid\")\n",
    "fig = plt.figure(figsize=(16,9))\n",
    "ax = fig.add_subplot(111, aspect='equal')\n",
    "# ax = fig.add_subplot(111, aspect='equal')\n",
    "cmap = sns.color_palette(\"Blues\", as_cmap=True)\n",
    "ax = sns.heatmap(syngas_conv_df, xticklabels=benergy_c, yticklabels=benergy_o, annot=False, cmap=cmap)\n",
    "ax.set(title=\"Syngas Conversion\",\n",
    "      xlabel=\"$\\\\Delta E^C(ev)$\",\n",
    "      ylabel=\"$\\\\Delta E^O(ev)$\",)\n",
    "# ax.scatter(9, 9, marker='*', s=100, color='yellow')\n",
    "# ax.scatter(metal_x, metal_y, marker='*', color='black')\n",
    "# for i, txt in enumerate(metal_names):\n",
    "#     ax.annotate(txt,(metal_x[i], metal_y[i]))"
   ]
  },
  {
   "cell_type": "markdown",
   "id": "4587acfc",
   "metadata": {},
   "source": [
    "## Plot the volcano plots for half change distance"
   ]
  },
  {
   "cell_type": "code",
   "execution_count": 7,
   "id": "57513d21",
   "metadata": {},
   "outputs": [
    {
     "name": "stdout",
     "output_type": "stream",
     "text": [
      "[Errno 2] No such file or directory: '81.0_c-7.50o-5.25/sim_data/rtol_1e-10_atol_1e-20_data.csv' check log files 81.0\n"
     ]
    },
    {
     "data": {
      "text/plain": [
       "array([[ 0.  , 12.93, 10.09, 10.06, 10.06, 10.07, 10.08, 10.09, 10.1 ],\n",
       "       [ 0.  , 12.83, 10.09, 10.06, 10.06, 10.07, 10.08, 10.09, 10.1 ],\n",
       "       [ 0.  , 13.05, 10.09, 10.06, 10.06, 10.07, 10.08, 10.09, 10.1 ],\n",
       "       [ 0.  , 19.96, 10.06, 10.05, 10.06, 10.07, 10.08, 10.09, 10.1 ],\n",
       "       [ 0.  ,  0.  , 10.07, 10.04, 10.05, 10.06, 10.08, 10.09, 10.1 ],\n",
       "       [ 0.  ,  0.  , 10.3 , 10.04, 10.05, 10.06, 10.08, 10.1 , 10.11],\n",
       "       [ 0.  ,  0.  , 11.48, 10.04, 10.21, 10.35, 10.41, 10.44, 10.46],\n",
       "       [ 0.  ,  0.  , 11.74, 10.44, 14.97, 18.59, 19.94,  0.  ,  0.  ],\n",
       "       [ 0.  ,  0.  , 11.53, 14.08,  0.  ,  0.  ,  0.  ,  0.  ,  0.  ]])"
      ]
     },
     "execution_count": 7,
     "metadata": {},
     "output_type": "execute_result"
    }
   ],
   "source": [
    "total = 81\n",
    "i = -1\n",
    "paths = []\n",
    "for c_binding_energy in benergy_c:\n",
    "    i += 1\n",
    "    j = -1\n",
    "    index = total - ((7.5 - abs(c_binding_energy)) / 0.25 + 1) * 9\n",
    "    for o_binding_energy in benergy_o:\n",
    "        j += 1\n",
    "        index += 1\n",
    "\n",
    "        try:\n",
    "            f_path = '{}_c{:.2f}o{:.2f}/sim_data/rtol_1e-10_atol_1e-20_data.csv'.format(index, c_binding_energy, o_binding_energy)\n",
    "            df = pd.read_csv(f_path)\n",
    "            half_conc_dist = df.loc[df['C/O ratio'].round(2) == 1.0].loc[:,'Dist to 50 CH4 Conv'].to_list()[0]\n",
    "            if half_conc_dist == 510:\n",
    "                data[j][i] = 0\n",
    "            else:\n",
    "                data[j][i] = abs(half_conc_dist)\n",
    "        except Exception as e:\n",
    "            print(e, f\"check log files {index}\")\n",
    "data "
   ]
  },
  {
   "cell_type": "code",
   "execution_count": 8,
   "id": "6c692a12",
   "metadata": {},
   "outputs": [
    {
     "data": {
      "text/plain": [
       "[Text(0.5, 1.0, 'half concentration disctantces'),\n",
       " Text(0.5, 60.0, '$\\\\Delta E^C(ev)$'),\n",
       " Text(348.0000000000001, 0.5, '$\\\\Delta E^O(ev)$')]"
      ]
     },
     "execution_count": 8,
     "metadata": {},
     "output_type": "execute_result"
    },
    {
     "data": {
      "image/png": "[encoded data removed]",
      "text/plain": [
       "<Figure size 1152x648 with 2 Axes>"
      ]
     },
     "metadata": {},
     "output_type": "display_data"
    }
   ],
   "source": [
    "half_conc_dist_df = pd.DataFrame(data, columns=benergy_c, index=benergy_o)\n",
    "sns.set_style(\"darkgrid\")\n",
    "fig = plt.figure(figsize=(16,9))\n",
    "ax = fig.add_subplot(111, aspect='equal')\n",
    "# ax = fig.add_subplot(111, aspect='equal')\n",
    "cmap = sns.color_palette(\"Blues\", as_cmap=True)\n",
    "ax = sns.heatmap(half_conc_dist_df, xticklabels=benergy_c, yticklabels=benergy_o, annot=False, cmap=cmap)\n",
    "ax.set(title=\"half concentration disctantces\",\n",
    "      xlabel=\"$\\\\Delta E^C(ev)$\",\n",
    "      ylabel=\"$\\\\Delta E^O(ev)$\",)\n",
    "# ax.scatter(9, 9, marker='*', s=100, color='yellow')\n",
    "# ax.scatter(metal_x, metal_y, marker='*', color='black')\n",
    "# for i, txt in enumerate(metal_names):\n",
    "#     ax.annotate(txt,(metal_x[i], metal_y[i]))"
   ]
  },
  {
   "cell_type": "markdown",
   "id": "cedc254e",
   "metadata": {},
   "source": [
    "## Distances to max temperature"
   ]
  },
  {
   "cell_type": "code",
   "execution_count": 10,
   "id": "c0ce2f85",
   "metadata": {},
   "outputs": [
    {
     "name": "stdout",
     "output_type": "stream",
     "text": [
      "[Errno 2] No such file or directory: '81.0_c-7.50o-5.25/sim_data/rtol_1e-10_atol_1e-20_data.csv' check log files 81.0\n"
     ]
    },
    {
     "data": {
      "text/plain": [
       "array([[ 9.26, 13.58, 10.2 , 10.12, 10.13, 10.15, 10.16, 10.17, 10.15],\n",
       "       [10.  , 13.46, 10.2 , 10.13, 10.14, 10.15, 10.16, 10.16, 10.15],\n",
       "       [10.01, 13.64, 10.21, 10.14, 10.15, 10.16, 10.16, 10.16, 10.15],\n",
       "       [10.  , 70.  , 10.17, 10.13, 10.14, 10.16, 10.16, 10.16, 10.15],\n",
       "       [10.  , 70.  , 10.15, 10.12, 10.14, 10.16, 10.16, 10.16, 10.15],\n",
       "       [10.01, 70.  , 10.46, 10.11, 10.13, 10.15, 10.17, 10.17, 10.17],\n",
       "       [ 9.26, 70.  , 20.  , 10.1 , 10.28, 10.43, 10.49, 10.51, 10.52],\n",
       "       [10.  , 70.  , 20.  , 10.47, 15.01, 18.64, 70.  , 70.  , 70.  ],\n",
       "       [ 0.  , 70.  , 20.  , 14.15, 70.  , 70.  , 70.  , 70.  , 70.  ]])"
      ]
     },
     "execution_count": 10,
     "metadata": {},
     "output_type": "execute_result"
    }
   ],
   "source": [
    "total = 81\n",
    "i = -1\n",
    "paths = []\n",
    "for c_binding_energy in benergy_c:\n",
    "    i += 1\n",
    "    j = -1\n",
    "    index = total - ((7.5 - abs(c_binding_energy)) / 0.25 + 1) * 9\n",
    "    for o_binding_energy in benergy_o:\n",
    "        j += 1\n",
    "        index += 1\n",
    "\n",
    "        try:\n",
    "            f_path = '{}_c{:.2f}o{:.2f}/sim_data/rtol_1e-10_atol_1e-20_data.csv'.format(index, c_binding_energy, o_binding_energy)\n",
    "            df = pd.read_csv(f_path)\n",
    "            max_temp_dist = df.loc[df['C/O ratio'].round(2) == 1.0].loc[:,'Dist to max temp'].to_list()[0]\n",
    "            data[j][i] = abs(max_temp_dist)\n",
    "        except Exception as e:\n",
    "            print(e, f\"check log files {index}\")\n",
    "data "
   ]
  },
  {
   "cell_type": "code",
   "execution_count": 11,
   "id": "17aef498",
   "metadata": {},
   "outputs": [
    {
     "data": {
      "text/plain": [
       "[Text(0.5, 1.0, 'half concentration disctantces'),\n",
       " Text(0.5, 60.0, '$\\\\Delta E^C(ev)$'),\n",
       " Text(348.0000000000001, 0.5, '$\\\\Delta E^O(ev)$')]"
      ]
     },
     "execution_count": 11,
     "metadata": {},
     "output_type": "execute_result"
    },
    {
     "data": {
      "image/png": "[encoded data removed]",
      "text/plain": [
       "<Figure size 1152x648 with 2 Axes>"
      ]
     },
     "metadata": {},
     "output_type": "display_data"
    }
   ],
   "source": [
    "max_temp_dist_df = pd.DataFrame(data, columns=benergy_c, index=benergy_o)\n",
    "sns.set_style(\"darkgrid\")\n",
    "fig = plt.figure(figsize=(16,9))\n",
    "ax = fig.add_subplot(111, aspect='equal')\n",
    "# ax = fig.add_subplot(111, aspect='equal')\n",
    "cmap = sns.color_palette(\"Blues\", as_cmap=True)\n",
    "ax = sns.heatmap(max_temp_dist_df, xticklabels=benergy_c, yticklabels=benergy_o, annot=False, cmap=cmap)\n",
    "ax.set(title=\"half concentration disctantces\",\n",
    "      xlabel=\"$\\\\Delta E^C(ev)$\",\n",
    "      ylabel=\"$\\\\Delta E^O(ev)$\",)\n",
    "# ax.scatter(9, 9, marker='*', s=100, color='yellow')\n",
    "# ax.scatter(metal_x, metal_y, marker='*', color='black')\n",
    "# for i, txt in enumerate(metal_names):\n",
    "#     ax.annotate(txt,(metal_x[i], metal_y[i]))"
   ]
  }
 ],
 "metadata": {
  "kernelspec": {
   "display_name": "rmg_env",
   "language": "python",
   "name": "rmg_env"
  },
  "language_info": {
   "codemirror_mode": {
    "name": "ipython",
    "version": 3
   },
   "file_extension": ".py",
   "mimetype": "text/x-python",
   "name": "python",
   "nbconvert_exporter": "python",
   "pygments_lexer": "ipython3",
   "version": "3.7.11"
  }
 },
 "nbformat": 4,
 "nbformat_minor": 5
}
