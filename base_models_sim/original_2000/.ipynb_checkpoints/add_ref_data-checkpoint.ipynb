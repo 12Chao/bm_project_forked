{
 "cells": [
  {
   "cell_type": "code",
   "execution_count": 1,
   "id": "cfd470c4",
   "metadata": {},
   "outputs": [],
   "source": [
    "import pandas as pd\n",
    "import os\n",
    "import numpy as np\n",
    "import sys\n",
    "import cantera as ct"
   ]
  },
  {
   "cell_type": "code",
   "execution_count": 3,
   "id": "f1c71a03",
   "metadata": {},
   "outputs": [],
   "source": [
    "df = pd.read_csv('sim_data/rtol_1e-10_atol_1e-20_data.csv')\n",
    "table_names = ['Ratio', 'SYNGAS Selec', 'SYNGAS Yield', 'CO Selectivity', 'CO % Yield', 'H2 Selectivity', \n",
    "               'H2 % Yield', 'CH4 Conversion', 'H2O+CO2 Selectivity', 'H2O+CO2 yield', 'Exit Temp', 'Peak Temp',\n",
    "               'Dist to peak temp', 'O2 Conversion', 'Max CH4 Conv', 'Dist to 50 CH4 Conv']\n",
    "data_to_csv = []\n",
    "for i in range(len(df)):\n",
    "    sens_data = calc(df.iloc[i,1:], type='sens')\n",
    "    data_to_csv.append(sens_data)\n",
    "df_to_csv = pd.DataFrame(np.array(data_to_csv), columns=table_names)\n",
    "df_to_csv.to_csv('sim_data/therm_sens_ref.csv')"
   ]
  },
  {
   "cell_type": "code",
   "execution_count": 2,
   "id": "2c877507",
   "metadata": {},
   "outputs": [],
   "source": [
    "def calc(data, type='sens'):\n",
    "    \"\"\"\n",
    "    Calculate properties of interest from the raw data\n",
    "    :param data: the data\n",
    "    :param type: 'sens' for sensitivity analyses\n",
    "                 'output' for saving the output csv\n",
    "                 'ratio' for plotting\n",
    "    :return:\n",
    "    \"\"\"\n",
    "    ratio, ch4_in, ch4_out, co_out, h2_out, h2o_out, co2_out, reference_exit_temp, reference_peak_temp, reference_peak_temp_dist, reference_o2_conv, reference_max_ch4_conv, reference_dist_to_50_ch4_conv = data\n",
    "\n",
    "    ch4_depletion = ch4_in - ch4_out\n",
    "    reference_ch4_conv = ch4_depletion / ch4_in \n",
    "    # negative sensitivity is higher selectivity\n",
    "    reference_h2_sel = h2_out / (ch4_depletion * 2)  # Sensitivity definition 5: H2 selectivity\n",
    "    if reference_h2_sel <= 0:\n",
    "        reference_h2_sel = 1.0e-15  # selectivity can't be 0\n",
    "\n",
    "    reference_co_sel = co_out / ch4_depletion  # Sensitivity definition 3: CO selectivity\n",
    "    if reference_co_sel <= 0:\n",
    "        reference_co_sel = 1.0e-15  # selectivity can't be 0\n",
    "\n",
    "    reference_syngas_selectivity = reference_co_sel + reference_h2_sel  # Sensitivity definition 1: SYNGAS selectivity\n",
    "\n",
    "    reference_syngas_yield = reference_syngas_selectivity * reference_ch4_conv  # Sensitivity definition 2: SYNGAS yield\n",
    "    if reference_syngas_yield <= 0:\n",
    "        reference_syngas_yield = 1.0e-15  # yield can't be 0\n",
    "\n",
    "    reference_co_yield = co_out / ch4_in  # Sensitivity definition 4: CO % yield\n",
    "    # reference_co_yield = reference_co_sel * reference_ch4_conv\n",
    "\n",
    "    reference_h2_yield = h2_out / (2 * ch4_in)  # Sensitivity definition 6: H2 % yield\n",
    "    # reference_h2_yield = reference_h2_sel * reference_ch4_conv\n",
    "\n",
    "    # Sensitivity definition 8: H2O + CO2 selectivity\n",
    "    reference_h2o_sel = h2o_out / (ch4_depletion * 2)\n",
    "    reference_co2_sel = co2_out / ch4_depletion\n",
    "    if reference_h2o_sel <= 0:\n",
    "        reference_h2o_sel = 1.0e-15  # H2O selectivity can't be 0\n",
    "    if reference_co2_sel <= 0:\n",
    "        reference_co2_sel = 1.0e-15  # CO2 selectivity can't be 0\n",
    "    reference_full_oxidation_selectivity = reference_h2o_sel + reference_co2_sel\n",
    "\n",
    "    # Sensitivity definition 9: H2O + CO2 yield\n",
    "    reference_full_oxidation_yield = reference_full_oxidation_selectivity * reference_ch4_conv\n",
    "    \n",
    "    sens_property = [ratio, reference_syngas_selectivity, reference_syngas_yield, reference_co_sel, reference_co_yield, reference_h2_sel, \n",
    "                     reference_h2_yield, reference_ch4_conv, reference_full_oxidation_selectivity, reference_full_oxidation_yield, \n",
    "                     reference_exit_temp, reference_peak_temp, reference_peak_temp_dist, reference_o2_conv, reference_max_ch4_conv, \n",
    "                     reference_dist_to_50_ch4_conv]\n",
    "    \n",
    "    ref_data = [ratio, ch4_in, ch4_out, co_out, h2_out, h2o_out, co2_out, reference_exit_temp, reference_peak_temp, \n",
    "                reference_peak_temp_dist, reference_o2_conv, reference_max_ch4_conv, reference_dist_to_50_ch4_conv]\n",
    "    if type is 'sens':\n",
    "        return sens_property\n",
    "    elif type is 'ratio':\n",
    "        return reference_co_sel, reference_h2_sel, reference_ch4_conv, reference_exit_temp, reference_o2_conv, reference_co2_sel, reference_h2o_sel\n",
    "    elif type is 'gas_data':\n",
    "        return ratio, reference\n",
    "    else:\n",
    "        return ref_data"
   ]
  },
  {
   "cell_type": "code",
   "execution_count": 4,
   "id": "bdf945bb",
   "metadata": {},
   "outputs": [],
   "source": [
    "x = pd.read_csv('sim_data/therm_sens_ref.csv')"
   ]
  }
 ],
 "metadata": {
  "kernelspec": {
   "display_name": "rmg_env",
   "language": "python",
   "name": "rmg_env"
  },
  "language_info": {
   "codemirror_mode": {
    "name": "ipython",
    "version": 3
   },
   "file_extension": ".py",
   "mimetype": "text/x-python",
   "name": "python",
   "nbconvert_exporter": "python",
   "pygments_lexer": "ipython3",
   "version": "3.7.11"
  }
 },
 "nbformat": 4,
 "nbformat_minor": 5
}
